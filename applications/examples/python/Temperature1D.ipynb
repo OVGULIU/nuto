{
 "metadata": {
  "signature": "sha256:1601d4797d19db096f7d8a68ef29589d6dd92a1f313d32e9712c070c6a7bc04e"
 },
 "nbformat": 3,
 "nbformat_minor": 0,
 "worksheets": [
  {
   "cells": [
    {
     "cell_type": "markdown",
     "metadata": {},
     "source": [
      "We want to solve the heat equation in 1D, $\u03c1 c_t \\dot{u} - k u,_{xx} = 0$, using NuTo. A very simple analytical solution, which we're going to use to supply the Dirichlet boundary conditions, and to compare the accuracy of our solution, is $u = 1 + x^2 + 2t$. Maybe we can define this first, to get some code in early:"
     ]
    },
    {
     "cell_type": "code",
     "collapsed": false,
     "input": [
      "def analytic_solution(x, t=0.0):\n",
      "    return 1.0 + x**2 + 2.0*t"
     ],
     "language": "python",
     "metadata": {},
     "outputs": [],
     "prompt_number": 1
    },
    {
     "cell_type": "markdown",
     "metadata": {},
     "source": [
      "To do any actual calculations, we need to import Numpy and NuTo:"
     ]
    },
    {
     "cell_type": "code",
     "collapsed": false,
     "input": [
      "import numpy as np\n",
      "import nuto"
     ],
     "language": "python",
     "metadata": {},
     "outputs": [],
     "prompt_number": 2
    },
    {
     "cell_type": "markdown",
     "metadata": {},
     "source": [
      "Let's define the length of our domain, as well as the material parameters:"
     ]
    },
    {
     "cell_type": "code",
     "collapsed": false,
     "input": [
      "# Geometry\n",
      "length = 1.0\n",
      "# Material\n",
      "conductivity = 1.0\n",
      "capacity = 1.0\n",
      "density = 1.0"
     ],
     "language": "python",
     "metadata": {},
     "outputs": [],
     "prompt_number": 3
    },
    {
     "cell_type": "markdown",
     "metadata": {},
     "source": [
      "First we need to create a structure. I'll pass the number of time derivatives as a parameter, because I want create structures for both the transient and the static problem:"
     ]
    },
    {
     "cell_type": "code",
     "collapsed": false,
     "input": [
      "def create_structure(number_of_time_derivatives=0):\n",
      "    # Geometry/Mesh\n",
      "    area = 1.0\n",
      "    number_of_elements = 20\n",
      "\n",
      "    # create one-dimensional structure\n",
      "    structure = nuto.Structure(1)\n",
      "    structure.SetNumTimeDerivatives(number_of_time_derivatives)\n",
      "\n",
      "    # create section\n",
      "    section = structure.SectionCreate(\"Truss\")\n",
      "    structure.SectionSetArea(section, area)\n",
      "\n",
      "    # create material law\n",
      "    material = structure.ConstitutiveLawCreate(\"Heat_Conduction\")\n",
      "    structure.ConstitutiveLawSetParameterDouble(material, \"Thermal_Conductivity\", conductivity)\n",
      "    structure.ConstitutiveLawSetParameterDouble(material, \"Heat_Capacity\", capacity)\n",
      "    structure.ConstitutiveLawSetParameterDouble(material, \"Density\", density)\n",
      "\n",
      "    # create nodes\n",
      "    node_coordinates = nuto.DoubleFullVector(1)\n",
      "    for node in range(0, number_of_elements + 1):\n",
      "        node_coordinates.SetValue(0, 0, node * length/number_of_elements)\n",
      "        structure.NodeCreate(node, node_coordinates)\n",
      "\n",
      "    # create interpolation type\n",
      "    truss_interpolation = structure.InterpolationTypeCreate(\"Truss1D\")\n",
      "    structure.InterpolationTypeAdd(truss_interpolation, \"coordinates\", \"equidistant1\")\n",
      "    structure.InterpolationTypeAdd(truss_interpolation, \"temperature\", \"equidistant1\")\n",
      "    structure.InterpolationTypeSetIntegrationType(truss_interpolation, \"1D2NGauss2Ip\", \"noipdata\")\n",
      "\n",
      "    # create elements\n",
      "    element_incidence = nuto.IntFullVector(2)\n",
      "    for element in range(0, number_of_elements):\n",
      "        element_incidence.SetValue(0, 0, element)\n",
      "        element_incidence.SetValue(1, 0, element + 1)\n",
      "        structure.ElementCreate(truss_interpolation, element_incidence)\n",
      "        structure.ElementSetSection(element, section)\n",
      "        structure.ElementSetConstitutiveLaw(element, material)\n",
      "\n",
      "    structure.ElementTotalConvertToInterpolationType()\n",
      "\n",
      "    # visualize results\n",
      "    visualization_group = structure.GroupCreate(\"Elements\")\n",
      "    structure.GroupAddElementsTotal(visualization_group)\n",
      "\n",
      "    structure.AddVisualizationComponent(visualization_group, \"Temperature\")\n",
      "\n",
      "    return structure"
     ],
     "language": "python",
     "metadata": {},
     "outputs": [],
     "prompt_number": 4
    },
    {
     "cell_type": "markdown",
     "metadata": {},
     "source": [
      "We'll compute a static solution with the boundary conditions $u(x=0) = 0$ and $q(x=l) = 10.0$. "
     ]
    },
    {
     "cell_type": "code",
     "collapsed": false,
     "input": [
      "def static_solve(structure):\n",
      "     # Boundaries\n",
      "    boundary_temperature = 0.0\n",
      "    boundary_flux = 10.0\n",
      "\n",
      "    # set dirichlet boundary condition\n",
      "    structure.ConstraintLinearSetTemperatureNode(0, boundary_temperature)\n",
      "\n",
      "    # set Neumann bc\n",
      "    last_node_id = structure.GetNumNodes() - 1\n",
      "    direction = nuto.DoubleFullMatrix(1, 1, (1,))\n",
      "    direction.SetValue(0, 0, 1.0)\n",
      "    structure.LoadCreateNodeHeatFlux(0, last_node_id, direction, boundary_flux)\n",
      "\n",
      "    # start analysis\n",
      "    structure.SolveGlobalSystemStaticElastic(0)\n",
      "    int_gradient_tmp = structure.BuildGlobalInternalGradient()\n",
      "    int_gradient = int_gradient_tmp.J.Get(\"Temperature\")\n",
      "    ext_gradient_tmp = structure.BuildGlobalExternalLoadVector(0)\n",
      "    ext_gradient = ext_gradient_tmp.J.Get(\"Temperature\")\n",
      "    residual = nuto.DoubleFullVector(int_gradient - ext_gradient)\n",
      "    print(\"Residual: {0}\".format(residual.Norm()))\n",
      "\n",
      "    structure.ExportVtkDataFileElements(\"Temperature1D_static.vtk\")"
     ],
     "language": "python",
     "metadata": {},
     "outputs": [],
     "prompt_number": 5
    },
    {
     "cell_type": "markdown",
     "metadata": {},
     "source": [
      "Now that we have defined functions for creating and solving our problem, the last step (for the stationary case) is calling these functions:"
     ]
    },
    {
     "cell_type": "code",
     "collapsed": false,
     "input": [
      "static_structure = create_structure()\n",
      "static_solve(static_structure)"
     ],
     "language": "python",
     "metadata": {},
     "outputs": [
      {
       "output_type": "stream",
       "stream": "stdout",
       "text": [
        "Residual: 1.07186614013e-13\n"
       ]
      }
     ],
     "prompt_number": 6
    },
    {
     "cell_type": "markdown",
     "metadata": {},
     "source": [
      "We expect a linear distribution, basically $u = k*q*x$, with the values $u=0$ at the left boundary, and $u = 10$ at the right boundary. Let's see:"
     ]
    },
    {
     "cell_type": "code",
     "collapsed": false,
     "input": [
      "print(static_structure.NodeGetTemperature(0))\n",
      "print(static_structure.NodeGetTemperature(static_structure.GetNumNodes() - 1))"
     ],
     "language": "python",
     "metadata": {},
     "outputs": [
      {
       "output_type": "stream",
       "stream": "stdout",
       "text": [
        "0.0\n",
        "10.0\n"
       ]
      }
     ],
     "prompt_number": 7
    },
    {
     "cell_type": "markdown",
     "metadata": {},
     "source": [
      "For the transient solution, both boundaries will have a Dirichlet conditions, with a value according to the analytical solution mentioned earlier."
     ]
    },
    {
     "cell_type": "code",
     "collapsed": false,
     "input": [
      "def transient_solve(structure):\n",
      "\n",
      "    simulation_time = 1.8\n",
      "    newmark = nuto.NewmarkDirect(structure)\n",
      "    newmark.SetTimeStep(.1*simulation_time)\n",
      "    newmark.SetToleranceForce(1e-4)\n",
      "    newmark.SetAutomaticTimeStepping(True)\n",
      "\n",
      "    beta = 2*conductivity/(density*capacity)\n",
      "    # set dirichlet bc\n",
      "    boundary_temperature_east = analytic_solution(0.0)\n",
      "    boundary_temperature_west = analytic_solution(length)\n",
      "    last_node_id = structure.GetNumNodes() - 1\n",
      "    bc_west = structure.ConstraintLinearSetTemperatureNode(last_node_id, boundary_temperature_west)\n",
      "    bc_east = structure.ConstraintLinearSetTemperatureNode(0, boundary_temperature_east)\n",
      "\n",
      "    end_temp_east = beta*simulation_time + boundary_temperature_east\n",
      "    temp_east = nuto.DoubleFullMatrix(2, 2)\n",
      "    temp_east.SetValue(0, 0, 0.0)\n",
      "    temp_east.SetValue(1, 0, simulation_time)\n",
      "    temp_east.SetValue(0, 1, boundary_temperature_east)\n",
      "    temp_east.SetValue(1, 1, end_temp_east)\n",
      "    newmark.AddTimeDependentConstraint(bc_east, temp_east)\n",
      "\n",
      "    end_temp_west = beta*simulation_time + boundary_temperature_west\n",
      "    temp_west = nuto.DoubleFullMatrix(2, 2)\n",
      "    temp_west.SetValue(0, 0, 0.0)\n",
      "    temp_west.SetValue(1, 0, simulation_time)\n",
      "    temp_west.SetValue(0, 1, boundary_temperature_west)\n",
      "    temp_west.SetValue(1, 1, end_temp_west)\n",
      "    newmark.AddTimeDependentConstraint(bc_west, temp_west)\n",
      "\n",
      "    delete_directory = True\n",
      "    newmark.SetResultDirectory(\"results_temp_1d\", delete_directory)\n",
      "    newmark.Solve(simulation_time)\n",
      "\n",
      "def interpolate(structure, function):\n",
      "    num_nodes = structure.GetNumNodes()\n",
      "\n",
      "    coordinates = nuto.DoubleFullVector(1)\n",
      "    x = np.empty((1, 1))\n",
      "    for i in range(num_nodes):\n",
      "        structure.NodeGetCoordinates(i, coordinates)\n",
      "        coordinates.convrtMatrixToNumpy(x)\n",
      "        value = function(x[0][0])\n",
      "        structure.NodeSetTemperature(i, value)\n",
      "    return structure\n",
      "\n",
      "def compare_to_analytic(structure):\n",
      "    num_nodes = structure.GetNumNodes()\n",
      "    coordinates = nuto.DoubleFullVector(1)\n",
      "    x = np.empty((1, 1))\n",
      "    exact_values = np.empty(num_nodes)\n",
      "    fem_values = np.empty(num_nodes)\n",
      "    for i in range(num_nodes):\n",
      "        transient_structure.NodeGetCoordinates(i, coordinates)\n",
      "        coordinates.convrtMatrixToNumpy(x)\n",
      "        exact_values[i] = analytic_solution(x[0][0], 1.8)\n",
      "        fem_values[i] = structure.NodeGetTemperature(i)\n",
      "\n",
      "    errornorm = np.linalg.norm(exact_values - fem_values, 1) / np.linalg.norm(exact_values, 1)\n",
      "    return errornorm"
     ],
     "language": "python",
     "metadata": {},
     "outputs": [],
     "prompt_number": 8
    },
    {
     "cell_type": "code",
     "collapsed": false,
     "input": [
      "transient_structure = create_structure(number_of_time_derivatives=1)\n",
      "transient_structure = interpolate(transient_structure, analytic_solution)\n",
      "transient_solve(transient_structure)\n",
      "\n",
      "error = compare_to_analytic(transient_structure)\n",
      "print(error)"
     ],
     "language": "python",
     "metadata": {},
     "outputs": [
      {
       "output_type": "stream",
       "stream": "stdout",
       "text": [
        "3.35500785856e-15\n"
       ]
      }
     ],
     "prompt_number": 9
    }
   ],
   "metadata": {}
  }
 ]
}